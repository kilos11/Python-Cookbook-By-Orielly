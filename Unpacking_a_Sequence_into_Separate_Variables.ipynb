{
  "nbformat": 4,
  "nbformat_minor": 0,
  "metadata": {
    "colab": {
      "provenance": [],
      "authorship_tag": "ABX9TyOE/fXaoGI7ZmNnJ3eI8rex",
      "include_colab_link": true
    },
    "kernelspec": {
      "name": "python3",
      "display_name": "Python 3"
    },
    "language_info": {
      "name": "python"
    }
  },
  "cells": [
    {
      "cell_type": "markdown",
      "metadata": {
        "id": "view-in-github",
        "colab_type": "text"
      },
      "source": [
        "<a href=\"https://colab.research.google.com/github/kilos11/Python-Cookbook-By-Orielly/blob/main/Unpacking_a_Sequence_into_Separate_Variables.ipynb\" target=\"_parent\"><img src=\"https://colab.research.google.com/assets/colab-badge.svg\" alt=\"Open In Colab\"/></a>"
      ]
    },
    {
      "cell_type": "code",
      "execution_count": null,
      "metadata": {
        "id": "xICzPoz9fZxN"
      },
      "outputs": [],
      "source": [
        "Problem\n",
        "You have an N-element tuple or sequence that you would like to unpack into a collection\n",
        "of N variables."
      ]
    },
    {
      "cell_type": "code",
      "source": [
        "p = (4,5,6)"
      ],
      "metadata": {
        "id": "Mt8G22Iyfqrh"
      },
      "execution_count": null,
      "outputs": []
    },
    {
      "cell_type": "code",
      "source": [
        "x,y,z = p"
      ],
      "metadata": {
        "id": "RY5J7S0sgI8E"
      },
      "execution_count": null,
      "outputs": []
    },
    {
      "cell_type": "code",
      "source": [
        "x,y,z"
      ],
      "metadata": {
        "colab": {
          "base_uri": "https://localhost:8080/"
        },
        "id": "UxeAon4hgRR9",
        "outputId": "13ae9677-f28a-42a2-cf67-1833e738214d"
      },
      "execution_count": null,
      "outputs": [
        {
          "output_type": "execute_result",
          "data": {
            "text/plain": [
              "(4, 5, 6)"
            ]
          },
          "metadata": {},
          "execution_count": 4
        }
      ]
    },
    {
      "cell_type": "code",
      "source": [
        "data = [ 'ACME', 50, 91.1, (2012, 12, 21) ]\n",
        "name, shares, price, date = data\n",
        "print(name)\n",
        "print(price)"
      ],
      "metadata": {
        "colab": {
          "base_uri": "https://localhost:8080/"
        },
        "id": "-3va8oofgyWi",
        "outputId": "7cfb1b5c-caee-45b0-9373-732f4baa6afe"
      },
      "execution_count": null,
      "outputs": [
        {
          "output_type": "stream",
          "name": "stdout",
          "text": [
            "ACME\n",
            "91.1\n"
          ]
        }
      ]
    },
    {
      "cell_type": "code",
      "source": [
        "name, shares, price, (year, mon, day) = data\n",
        "print(name)\n",
        "print(year)\n",
        "print(mon)\n",
        "print(day)\n"
      ],
      "metadata": {
        "colab": {
          "base_uri": "https://localhost:8080/"
        },
        "id": "8-eMQSxmhdu6",
        "outputId": "21338c90-8313-4d9b-e86c-76bd10acef4b"
      },
      "execution_count": null,
      "outputs": [
        {
          "output_type": "stream",
          "name": "stdout",
          "text": [
            "ACME\n",
            "2012\n",
            "12\n",
            "21\n"
          ]
        }
      ]
    },
    {
      "cell_type": "code",
      "source": [
        "#Unpacking actually works with any object that happens to be iterable, not just tuples or\n",
        "#lists. This includes strings, files, iterators, and generators. For example:\n",
        "s = \"Hello\"\n",
        "a, b, c, d, e = s\n",
        "a\n",
        "b\n",
        "e"
      ],
      "metadata": {
        "colab": {
          "base_uri": "https://localhost:8080/",
          "height": 35
        },
        "id": "k59pFkpzioJ1",
        "outputId": "f6cb9507-351e-4ef6-8d15-20bfafcd4421"
      },
      "execution_count": null,
      "outputs": [
        {
          "output_type": "execute_result",
          "data": {
            "text/plain": [
              "'o'"
            ],
            "application/vnd.google.colaboratory.intrinsic+json": {
              "type": "string"
            }
          },
          "metadata": {},
          "execution_count": 10
        }
      ]
    },
    {
      "cell_type": "code",
      "source": [
        "data = [ 'ACME', 50, 91.1, (2012, 12, 21) ]\n",
        "\n"
      ],
      "metadata": {
        "id": "D1nG4Shzhm7F"
      },
      "execution_count": null,
      "outputs": []
    },
    {
      "cell_type": "markdown",
      "source": [
        "Unpacking Elements from Iterables of Arbitrary\n",
        "Length\n"
      ],
      "metadata": {
        "id": "oqm2VChMnXFI"
      }
    },
    {
      "cell_type": "code",
      "source": [
        "def drop_first_last(grades):\n",
        "    first, *middle, last = grades\n",
        "    return avg(middle)"
      ],
      "metadata": {
        "id": "jlWpmp3mnVVT"
      },
      "execution_count": null,
      "outputs": []
    },
    {
      "cell_type": "markdown",
      "source": [
        "suppose you have user records that consist of a name and email\n",
        "address, followed by an arbitrary number of phone numbers. You could unpack the\n",
        "records like this:"
      ],
      "metadata": {
        "id": "7WNNJMvBtev2"
      }
    },
    {
      "cell_type": "code",
      "source": [
        "record = ('Dave', 'dave@example.com', '773-555-1212', '847-555-1212')\n",
        "name, email, *phone_numbers = record\n",
        "print(name)\n",
        "print(email)\n",
        "print(phone_numbers)\n"
      ],
      "metadata": {
        "colab": {
          "base_uri": "https://localhost:8080/"
        },
        "id": "rx-T396RtXgv",
        "outputId": "b95f2f63-5e76-4aa4-9def-1f87f73f0378"
      },
      "execution_count": null,
      "outputs": [
        {
          "output_type": "stream",
          "name": "stdout",
          "text": [
            "Dave\n",
            "dave@example.com\n",
            "['773-555-1212', '847-555-1212']\n"
          ]
        }
      ]
    },
    {
      "cell_type": "markdown",
      "source": [
        "If you want to see how the most recent quarter stacks up to the average of the first seven,\n",
        "you could do something like this:"
      ],
      "metadata": {
        "id": "o15A0bRHu-pE"
      }
    },
    {
      "cell_type": "code",
      "source": [
        "# Unpack the sales record into trailing quarters and the current quarter\n",
        "*trailing_qtrs, current_qtr = sales_record\n",
        "\n",
        "# Calculate the average of the trailing quarters\n",
        "trailing_avg = sum(trailing_qtrs) / len(trailing_qtrs)\n",
        "\n",
        "# Call the function avg_comparison to compare the trailing average with the current quarter\n",
        "return avg_comparison(trailing_avg, current_qtr)\n",
        "\n",
        "*trailing, current = [10, 8, 7, 1, 9, 5, 10, 3]\n",
        "trailing\n"
      ],
      "metadata": {
        "id": "AqvkC8pmvCOz"
      },
      "execution_count": null,
      "outputs": []
    },
    {
      "cell_type": "markdown",
      "source": [
        "Sometimes you might want to unpack values and throw them away. You can’t just specify\n",
        "a bare * when unpacking, but you could use a common throwaway variable name, such\n",
        "as _ or ign (ignored). For example:"
      ],
      "metadata": {
        "id": "QIuBPgjIyEPk"
      }
    },
    {
      "cell_type": "code",
      "source": [
        "record = ('ACME', 50, 123.45, (12, 18, 2012))\n",
        "name, *_, (*_, year) = record\n",
        "print(name)\n",
        "print(year)\n"
      ],
      "metadata": {
        "colab": {
          "base_uri": "https://localhost:8080/"
        },
        "id": "0A7IGjGnyIfl",
        "outputId": "30d89e12-14fb-4f85-c4b9-752339c7009e"
      },
      "execution_count": null,
      "outputs": [
        {
          "output_type": "stream",
          "name": "stdout",
          "text": [
            "ACME\n",
            "2012\n"
          ]
        }
      ]
    },
    {
      "cell_type": "markdown",
      "source": [
        "There is a certain similarity between star unpacking and list-processing features of various\n",
        "functional languages. For example, if you have a list, you can easily split it into head\n",
        "and tail components like this:"
      ],
      "metadata": {
        "id": "8lnn2ZWIyoak"
      }
    },
    {
      "cell_type": "code",
      "source": [
        "items = [1, 10, 7, 4, 5, 9]\n",
        "*head, tail = items\n",
        "print(head)\n",
        "print(tail)\n"
      ],
      "metadata": {
        "colab": {
          "base_uri": "https://localhost:8080/"
        },
        "id": "R4E8BFYoyrIU",
        "outputId": "46ec9189-8e15-43b2-a1fd-0c5e6c5e4a07"
      },
      "execution_count": null,
      "outputs": [
        {
          "output_type": "stream",
          "name": "stdout",
          "text": [
            "[1, 10, 7, 4, 5]\n",
            "9\n"
          ]
        }
      ]
    },
    {
      "cell_type": "markdown",
      "source": [
        "One could imagine writing functions that perform such splitting in order to carry out\n",
        "some kind of clever recursive algorithm. For example:"
      ],
      "metadata": {
        "id": "l-w1gghzzk3S"
      }
    },
    {
      "cell_type": "code",
      "source": [
        "# Define a recursive function 'sum' that calculates the sum of a list of items\n",
        "def sum(items):\n",
        "\n",
        "    # Recursive case: unpack the list into the head and tail\n",
        "    head, *tail = items\n",
        "\n",
        "    # Return the sum of the head and the result of the recursive call on the tail\n",
        "    return head + sum(tail) if tail else head\n",
        "\n",
        "# Example usage: calculate the sum of items using the 'sum' function\n",
        "sum_result = sum(items)\n",
        "print(sum_result)\n"
      ],
      "metadata": {
        "colab": {
          "base_uri": "https://localhost:8080/"
        },
        "id": "yeSp9ACtzoG5",
        "outputId": "0b802b8a-edd4-4e20-ba95-9ae84b4557d6"
      },
      "execution_count": null,
      "outputs": [
        {
          "output_type": "stream",
          "name": "stdout",
          "text": [
            "36\n"
          ]
        }
      ]
    },
    {
      "cell_type": "markdown",
      "source": [
        "You want to keep a limited history of the last few items seen during iteration or during\n",
        "some other kind of processing"
      ],
      "metadata": {
        "id": "3Lxb1SIk1jwp"
      }
    },
    {
      "cell_type": "code",
      "source": [
        "# Import the 'deque' class from the 'collections' module\n",
        "from collections import deque\n",
        "\n",
        "# Define a search function that yields lines containing a given pattern along with a specified number of previous lines\n",
        "def search(lines, pattern, history=5):\n",
        "    # Create a deque (double-ended queue) to store the previous lines, with a maximum length of 'history'\n",
        "    previous_lines = deque(maxlen=history)\n",
        "\n",
        "    # Iterate through each line in the input 'lines'\n",
        "    for line in lines:\n",
        "        # Check if the pattern is present in the current line\n",
        "        if pattern in line:\n",
        "            # Yield the current line along with the deque of previous lines\n",
        "            yield line, previous_lines\n",
        "\n",
        "        # Append the current line to the deque of previous lines\n",
        "        previous_lines.append(line)\n",
        "\n",
        "# Example use on a file\n",
        "if __name__ == '__main__':\n",
        "    # Open a file named 'somefile.txt'\n",
        "    with open('somefile.txt') as f:\n",
        "        # Iterate through the lines and previous lines returned by the search function\n",
        "        for line, prevlines in search(f, 'python', 5):\n",
        "            # Print the previous lines before the line containing the pattern\n",
        "            for pline in prevlines:\n",
        "                print(pline, end='')\n",
        "\n",
        "            # Print the line containing the pattern\n",
        "            print(line, end='')\n",
        "\n",
        "            # Print a separator line\n",
        "            print('-'*20)\n"
      ],
      "metadata": {
        "id": "ZcK_RoS91mAU"
      },
      "execution_count": null,
      "outputs": []
    },
    {
      "cell_type": "markdown",
      "source": [
        "Problem:\n",
        "You want to make a list of the largest or smallest N items in a collection.\n",
        "\n",
        "Solution:\n",
        "The heapq module has two functions—nlargest() and nsmallest()—that do exactly\n",
        "what you want. For example:"
      ],
      "metadata": {
        "id": "j_A_IWf83yEK"
      }
    },
    {
      "cell_type": "code",
      "source": [
        "import heapq\n",
        "\n",
        "nums = [1, 8, 2, 23, 7, -4, 18, 23, 42, 37, 2]\n",
        "print(heapq.nlargest(5, nums)) # Prints [42, 37, 23]\n",
        "print(heapq.nsmallest(5, nums)) # Prints [-4, 1, 2]"
      ],
      "metadata": {
        "colab": {
          "base_uri": "https://localhost:8080/"
        },
        "id": "8COKGqkE31ay",
        "outputId": "f45f4579-eca7-4a53-fc5c-8f3b8ac1ab2e"
      },
      "execution_count": null,
      "outputs": [
        {
          "output_type": "stream",
          "name": "stdout",
          "text": [
            "[42, 37, 23, 23, 18]\n",
            "[-4, 1, 2, 2, 7]\n"
          ]
        }
      ]
    },
    {
      "cell_type": "markdown",
      "source": [
        "Both functions also accept a key parameter that allows them to be used with more\n",
        "complicated data structures. For example:"
      ],
      "metadata": {
        "id": "6WC5YAj-4588"
      }
    },
    {
      "cell_type": "code",
      "source": [
        "import heapq\n",
        "\n",
        "# Define a portfolio list containing dictionaries representing stock information\n",
        "portfolio = [\n",
        "    {'name': 'IBM', 'shares': 100, 'price': 91.1},\n",
        "    {'name': 'AAPL', 'shares': 50, 'price': 543.22},\n",
        "    {'name': 'FB', 'shares': 200, 'price': 21.09},\n",
        "    {'name': 'HPQ', 'shares': 35, 'price': 31.75},\n",
        "    {'name': 'YHOO', 'shares': 45, 'price': 16.35},\n",
        "    {'name': 'ACME', 'shares': 75, 'price': 115.65}\n",
        "]\n",
        "\n",
        "# Find the three cheapest stocks using heapq's nsmallest function\n",
        "cheap = heapq.nsmallest(3, portfolio, key=lambda s: s['price'])\n",
        "\n",
        "# Find the three most expensive stocks using heapq's nlargest function\n",
        "expensive = heapq.nlargest(3, portfolio, key=lambda s: s['price'])\n",
        "\n",
        "# Print the results\n",
        "print(\"Cheapest stocks:\")\n",
        "print(cheap)\n",
        "\n",
        "print(\"\\nMost expensive stocks:\")\n",
        "print(expensive)\n"
      ],
      "metadata": {
        "colab": {
          "base_uri": "https://localhost:8080/"
        },
        "id": "Wvdz9qw149hC",
        "outputId": "f1266554-ea88-4891-d473-67f01a7e11ba"
      },
      "execution_count": null,
      "outputs": [
        {
          "output_type": "stream",
          "name": "stdout",
          "text": [
            "Cheapest stocks:\n",
            "[{'name': 'YHOO', 'shares': 45, 'price': 16.35}, {'name': 'FB', 'shares': 200, 'price': 21.09}, {'name': 'HPQ', 'shares': 35, 'price': 31.75}]\n",
            "\n",
            "Most expensive stocks:\n",
            "[{'name': 'AAPL', 'shares': 50, 'price': 543.22}, {'name': 'ACME', 'shares': 75, 'price': 115.65}, {'name': 'IBM', 'shares': 100, 'price': 91.1}]\n"
          ]
        }
      ]
    },
    {
      "cell_type": "markdown",
      "source": [
        "**Discussion:**\n",
        "\n",
        "If you are looking for the N smallest or largest items and N is small compared to the\n",
        "overall size of the collection, these functions provide superior performance. Underneath the covers, they work by first converting the data into a list where items are ordered as\n",
        "a heap. For example: *italicized text*"
      ],
      "metadata": {
        "id": "k3SO-VY08nKd"
      }
    },
    {
      "cell_type": "code",
      "source": [
        "# Import the heapq module, which provides heap-related functions\n",
        "import heapq\n",
        "\n",
        "# Create a list 'nums' containing integers\n",
        "nums = [1, 8, 2, 23, 7, -4, 18, 23, 42, 37, 2]\n",
        "\n",
        "# Create a copy of the 'nums' list called 'heap'\n",
        "# Note: This is done to demonstrate the heapq.heapify() function, as it modifies the list in-place\n",
        "heap = list(nums)\n",
        "\n",
        "# Use the heapq.heapify() function to convert the 'heap' list into a min-heap\n",
        "heapq.heapify(heap)\n",
        "\n",
        "# Print the resulting min-heap\n",
        "heap\n",
        "\n",
        "\n"
      ],
      "metadata": {
        "colab": {
          "base_uri": "https://localhost:8080/"
        },
        "id": "wMVj-4M_9H-E",
        "outputId": "d3aac4ed-cd80-4047-985e-733244ac3641"
      },
      "execution_count": null,
      "outputs": [
        {
          "output_type": "execute_result",
          "data": {
            "text/plain": [
              "[-4, 2, 1, 23, 7, 2, 18, 23, 42, 37, 8]"
            ]
          },
          "metadata": {},
          "execution_count": 33
        }
      ]
    },
    {
      "cell_type": "markdown",
      "source": [
        "The most important feature of a heap is that heap[0] is always the smallest item. Moreover,\n",
        "subsequent items can be easily found using the heapq.heappop() method, which\n",
        "pops off the first item and replaces it with the next smallest item (an operation that\n",
        "requires O(log N) operations where N is the size of the heap). For example, to find the\n",
        "three smallest items, you would do this:"
      ],
      "metadata": {
        "id": "bN12yiXV-VKB"
      }
    },
    {
      "cell_type": "code",
      "source": [
        "print(heapq.heappop(heap))#first smallest\n",
        "print(heapq.heappop(heap))#second smallest\n",
        "print(heapq.heappop(heap))#third smallest\n",
        "print(heapq.heappop(heap))#fourth smallest"
      ],
      "metadata": {
        "id": "O-_sNbA5-yxf"
      },
      "execution_count": null,
      "outputs": []
    },
    {
      "cell_type": "markdown",
      "source": [
        "**Implementing a Priority Queue:**\n",
        "\n",
        "You want to implement a queue that sorts items by a given priority and always returns\n",
        "the item with the highest priority on each pop operation"
      ],
      "metadata": {
        "id": "iVPJiiFq_STW"
      }
    },
    {
      "cell_type": "code",
      "source": [
        "# Import the heapq module, which provides heap-related functions\n",
        "import heapq\n",
        "\n",
        "# Define a PriorityQueue class\n",
        "class PriorityQueue:\n",
        "    def __init__(self):\n",
        "        # Initialize an empty list to store the elements in the priority queue\n",
        "        self._queue = []\n",
        "        # Initialize an index to track the order of elements pushed into the queue\n",
        "        self._index = 0\n",
        "\n",
        "    # Method to push an item into the priority queue with a specified priority\n",
        "    def push(self, item, priority):\n",
        "        # Use heapq.heappush() to insert a tuple into the heap\n",
        "        # The tuple contains the negation of priority (to create a max-heap),\n",
        "        # the index to maintain order, and the item itself\n",
        "        heapq.heappush(self._queue, (-priority, self._index, item))\n",
        "        # Increment the index for the next element\n",
        "        self._index += 1\n",
        "\n",
        "    # Method to pop and return the item with the highest priority\n",
        "    def pop(self):\n",
        "        # Use heapq.heappop() to remove and return the smallest element from the heap\n",
        "        # Retrieve the item from the tuple and return it\n",
        "        return heapq.heappop(self._queue)[-1]\n"
      ],
      "metadata": {
        "id": "gETO2O5Z_lc8"
      },
      "execution_count": 3,
      "outputs": []
    },
    {
      "cell_type": "markdown",
      "source": [
        "Here is an example of how it might be used:"
      ],
      "metadata": {
        "id": "chAYcy9NAe8D"
      }
    },
    {
      "cell_type": "code",
      "source": [
        "class Item:\n",
        "    def __init__(self, name):\n",
        "        self.name = name\n",
        "\n",
        "    def __repr__(self):\n",
        "        return 'Item({!r})'.format(self.name)"
      ],
      "metadata": {
        "id": "yvDybtZwAjEH"
      },
      "execution_count": 2,
      "outputs": []
    },
    {
      "cell_type": "code",
      "source": [
        "q = PriorityQueue()\n",
        "print(q)\n",
        "q.push(Item('foo'), 1)\n"
      ],
      "metadata": {
        "colab": {
          "base_uri": "https://localhost:8080/"
        },
        "id": "BYnEFCQVBFEq",
        "outputId": "4029f4e9-922e-4c83-f1dd-684885678f02"
      },
      "execution_count": 7,
      "outputs": [
        {
          "output_type": "stream",
          "name": "stdout",
          "text": [
            "<__main__.PriorityQueue object at 0x7f78d18eb8e0>\n"
          ]
        }
      ]
    },
    {
      "cell_type": "markdown",
      "source": [
        "**Mapping Keys to Multiple Values in a Dictionary:**\n",
        "\n",
        "A dictionary is a mapping where each key is mapped to a single value. If you want to\n",
        "map keys to multiple values, you need to store the multiple values in another container\n",
        "such as a list or set. For example, you might make dictionaries like this:"
      ],
      "metadata": {
        "id": "yS7xOO2QjTIR"
      }
    },
    {
      "cell_type": "code",
      "source": [
        "d = {\n",
        "'a' : [1, 2, 3],\n",
        "'b' : [4, 5]\n",
        "}\n",
        "e = {\n",
        "'a' : {1, 2, 3},\n",
        "'b' : {4, 5}\n",
        "}"
      ],
      "metadata": {
        "id": "YchFOZGkjWEB"
      },
      "execution_count": 8,
      "outputs": []
    },
    {
      "cell_type": "code",
      "source": [
        "from collections import defaultdict\n",
        "\n",
        "d = defaultdict(list)\n",
        "d['a'].append(1)\n",
        "d['a'].append(2)\n",
        "d['b'].append(4)\n",
        "d = defaultdict(set)"
      ],
      "metadata": {
        "id": "VuFX90WykApo"
      },
      "execution_count": 11,
      "outputs": []
    },
    {
      "cell_type": "markdown",
      "source": [
        "**Keeping Dictionaries in Order:**\n",
        "\n",
        "You want to create a dictionary, and you also want to control the order of items when\n",
        "iterating or serializing.To control the order of items in a dictionary, you can use an OrderedDict from the\n",
        "collections module. It exactly preserves the original insertion order of data when\n",
        "iterating. For example:"
      ],
      "metadata": {
        "id": "1frGrSqskxfm"
      }
    },
    {
      "cell_type": "code",
      "source": [
        "from collections import OrderedDict\n",
        "\n",
        "d = OrderedDict()\n",
        "d['foo'] = 1\n",
        "d['bar'] = 2\n",
        "d['spam'] = 3\n",
        "d['grok'] = 4"
      ],
      "metadata": {
        "id": "UtD5iIojlC4-"
      },
      "execution_count": 12,
      "outputs": []
    },
    {
      "cell_type": "code",
      "source": [
        "for key in d:\n",
        "    print(key, d[key])"
      ],
      "metadata": {
        "colab": {
          "base_uri": "https://localhost:8080/"
        },
        "id": "MHUYLWt4lIr7",
        "outputId": "6a695923-be40-490d-a6f7-ea03b5c278c6"
      },
      "execution_count": 13,
      "outputs": [
        {
          "output_type": "stream",
          "name": "stdout",
          "text": [
            "foo 1\n",
            "bar 2\n",
            "spam 3\n",
            "grok 4\n"
          ]
        }
      ]
    },
    {
      "cell_type": "markdown",
      "source": [
        "if you want\n",
        "to precisely control the order of fields appearing in a JSON encoding, first building the\n",
        "data in an OrderedDict will do the trick:"
      ],
      "metadata": {
        "id": "loFB58F8loqV"
      }
    },
    {
      "cell_type": "code",
      "source": [
        "import json\n",
        "\n",
        "json.dumps(d)"
      ],
      "metadata": {
        "colab": {
          "base_uri": "https://localhost:8080/",
          "height": 35
        },
        "id": "J9F_fCfGlt07",
        "outputId": "3ca61b31-4835-4a5b-db8e-4c3cfb9a85f9"
      },
      "execution_count": 14,
      "outputs": [
        {
          "output_type": "execute_result",
          "data": {
            "text/plain": [
              "'{\"foo\": 1, \"bar\": 2, \"spam\": 3, \"grok\": 4}'"
            ],
            "application/vnd.google.colaboratory.intrinsic+json": {
              "type": "string"
            }
          },
          "metadata": {},
          "execution_count": 14
        }
      ]
    },
    {
      "cell_type": "markdown",
      "source": [
        "**Calculating with Dictionaries:**\n",
        "**Problem:**\n",
        "\n",
        "You want to perform various calculations (e.g., minimum value, maximum value, sorting,\n",
        "etc.) on a dictionary of data."
      ],
      "metadata": {
        "id": "Jl9BwiPgmOc6"
      }
    },
    {
      "cell_type": "code",
      "source": [
        "prices = {\n",
        "'ACME': 45.23,\n",
        "'AAPL': 612.78,\n",
        "'IBM': 205.55,\n",
        "'HPQ': 37.20,\n",
        "'FB': 10.75\n",
        "}"
      ],
      "metadata": {
        "id": "E_mwjyPYmK0N"
      },
      "execution_count": 15,
      "outputs": []
    },
    {
      "cell_type": "markdown",
      "source": [
        "In order to perform useful calculations on the dictionary contents, it is often useful to\n",
        "invert the keys and values of the dictionary using zip(). For example, here is how to\n",
        "find the minimum and maximum price and stock name:"
      ],
      "metadata": {
        "id": "IBN_DoQinumw"
      }
    },
    {
      "cell_type": "code",
      "source": [
        "min_price = min(zip(prices.values(), prices.keys()))\n",
        "print(min_price)\n",
        "# min_price is (10.75, 'FB')\n",
        "\n",
        "max_price = max(zip(prices.values(), prices.keys()))\n",
        "print(max_price)\n",
        "# max_price is (612.78, 'AAPL')"
      ],
      "metadata": {
        "colab": {
          "base_uri": "https://localhost:8080/"
        },
        "id": "4GA3OX-CnbB6",
        "outputId": "351407e1-5fb7-4169-a29a-5c20213e60bb"
      },
      "execution_count": 18,
      "outputs": [
        {
          "output_type": "stream",
          "name": "stdout",
          "text": [
            "(10.75, 'FB')\n",
            "(612.78, 'AAPL')\n"
          ]
        }
      ]
    },
    {
      "cell_type": "markdown",
      "source": [
        "# Similarly, to rank the data, use zip() with sorted(), as in the following:"
      ],
      "metadata": {
        "id": "Rlka2I7PpWlW"
      }
    },
    {
      "cell_type": "code",
      "source": [
        "\n",
        "\n",
        "# Use the zip() function to create pairs of (price, item) from the 'prices' dictionary\n",
        "# Sort the pairs based on the price in ascending order\n",
        "prices_sorted = sorted(zip(prices.values(), prices.keys()))\n",
        "\n",
        "# Print the sorted list of (price, item) pairs\n",
        "print(prices_sorted)\n"
      ],
      "metadata": {
        "colab": {
          "base_uri": "https://localhost:8080/"
        },
        "id": "hv_3yC4VpQuV",
        "outputId": "6c639d94-9b69-49a4-d997-3cc2f5905c0d"
      },
      "execution_count": 19,
      "outputs": [
        {
          "output_type": "stream",
          "name": "stdout",
          "text": [
            "[(10.75, 'FB'), (37.2, 'HPQ'), (45.23, 'ACME'), (205.55, 'IBM'), (612.78, 'AAPL')]\n"
          ]
        }
      ]
    },
    {
      "cell_type": "markdown",
      "source": [
        "# Discussion:\n",
        "If you try to perform common data reductions on a dictionary, you’ll find that they only\n",
        "process the keys, not the values. For example:"
      ],
      "metadata": {
        "id": "R5vqYV3VqV77"
      }
    },
    {
      "cell_type": "code",
      "source": [
        "min(prices) # Returns 'AAPL'\n",
        "max(prices) # Returns 'IBM'"
      ],
      "metadata": {
        "colab": {
          "base_uri": "https://localhost:8080/",
          "height": 35
        },
        "id": "yqOdpr_rqc8S",
        "outputId": "630edaed-cebf-4823-b15b-7aa17ce29fa9"
      },
      "execution_count": 21,
      "outputs": [
        {
          "output_type": "execute_result",
          "data": {
            "text/plain": [
              "'IBM'"
            ],
            "application/vnd.google.colaboratory.intrinsic+json": {
              "type": "string"
            }
          },
          "metadata": {},
          "execution_count": 21
        }
      ]
    },
    {
      "cell_type": "markdown",
      "source": [
        "This is probably not what you want because you’re actually trying to perform a calculation\n",
        "involving the dictionary values. You might try to fix this using the values()\n",
        "method of a dictionary:"
      ],
      "metadata": {
        "id": "GtlVbh4Qqtue"
      }
    },
    {
      "cell_type": "code",
      "source": [
        "min(prices.values()) # Returns 10.75\n",
        "max(prices.values()) # Returns 612.78"
      ],
      "metadata": {
        "colab": {
          "base_uri": "https://localhost:8080/"
        },
        "id": "n-g_8i3wqvoK",
        "outputId": "91c318e0-4ff4-4744-8a91-983897353f18"
      },
      "execution_count": 20,
      "outputs": [
        {
          "output_type": "execute_result",
          "data": {
            "text/plain": [
              "612.78"
            ]
          },
          "metadata": {},
          "execution_count": 20
        }
      ]
    },
    {
      "cell_type": "markdown",
      "source": [
        "Unfortunately, this is often not exactly what you want either. For example, you may want\n",
        "to know information about the corresponding keys (e.g., which stock has the lowest\n",
        "price?).\n",
        "You can get the key corresponding to the min or max value if you supply a key function\n",
        "to min() and max(). For example:"
      ],
      "metadata": {
        "id": "sSs_cgzWrCyR"
      }
    },
    {
      "cell_type": "code",
      "source": [
        "min(prices, key=lambda k: prices[k]) # Returns 'FB'\n",
        "max(prices, key=lambda k: prices[k]) # Returns 'AAPL'"
      ],
      "metadata": {
        "colab": {
          "base_uri": "https://localhost:8080/",
          "height": 35
        },
        "id": "CWRWA_XQrETC",
        "outputId": "b2d38a66-9151-40cf-ad8d-2c23150a06e9"
      },
      "execution_count": 22,
      "outputs": [
        {
          "output_type": "execute_result",
          "data": {
            "text/plain": [
              "'AAPL'"
            ],
            "application/vnd.google.colaboratory.intrinsic+json": {
              "type": "string"
            }
          },
          "metadata": {},
          "execution_count": 22
        }
      ]
    },
    {
      "cell_type": "markdown",
      "source": [
        "It should be noted that in calculations involving (value, key) pairs, the key will be\n",
        "used to determine the result in instances where multiple entries happen to have the same\n",
        "value. For instance, in calculations such as min() and max(), the entry with the smallest\n",
        "or largest key will be returned if there happen to be duplicate values. For example:"
      ],
      "metadata": {
        "id": "69nhhEHirm-n"
      }
    },
    {
      "cell_type": "code",
      "source": [
        "prices = { 'AAA' : 45.23, 'ZZZ': 45.23 }\n",
        "print(min(zip(prices.values(), prices.keys())))\n",
        "print(max(zip(prices.values(), prices.keys())))"
      ],
      "metadata": {
        "colab": {
          "base_uri": "https://localhost:8080/"
        },
        "id": "l71fWGLTronv",
        "outputId": "46befe9f-0280-4a52-aa89-72054faa7fa3"
      },
      "execution_count": 23,
      "outputs": [
        {
          "output_type": "stream",
          "name": "stdout",
          "text": [
            "(45.23, 'AAA')\n",
            "(45.23, 'ZZZ')\n"
          ]
        }
      ]
    },
    {
      "cell_type": "markdown",
      "source": [
        "# 1.9. Finding Commonalities in Two Dictionaries\n",
        "\n",
        "**Problem:**\n",
        "You have two dictionaries and want to find out what they might have in common (same\n",
        "keys, same values, etc.)."
      ],
      "metadata": {
        "id": "RKHKn2XxsHDz"
      }
    },
    {
      "cell_type": "code",
      "source": [
        "a = {\n",
        "'x' : 1,\n",
        "'y' : 2,\n",
        "'z' : 3\n",
        "}\n",
        "\n",
        "b = {\n",
        "'w' : 10,\n",
        "'x' : 11,\n",
        "'y' : 2\n",
        "}"
      ],
      "metadata": {
        "id": "lREJMOUMsFQ5"
      },
      "execution_count": 24,
      "outputs": []
    },
    {
      "cell_type": "markdown",
      "source": [
        "To find out what the two dictionaries have in common, simply perform common set\n",
        "operations using the keys() or items() methods. For example:"
      ],
      "metadata": {
        "id": "YcGTPYGasnyH"
      }
    },
    {
      "cell_type": "code",
      "source": [
        "\n",
        "\n",
        "# Use the '&' operator to find the intersection of the keys in dictionaries 'a' and 'b'\n",
        "# This operation returns a set containing keys that are common to both dictionaries\n",
        "common_keys = a.keys() & b.keys()\n",
        "\n",
        "# Print the set of keys that are common to both dictionaries\n",
        "print(common_keys)\n"
      ],
      "metadata": {
        "colab": {
          "base_uri": "https://localhost:8080/"
        },
        "id": "7mT8znrksp22",
        "outputId": "bd080077-cad0-4afa-9a90-428f34e71ecf"
      },
      "execution_count": 31,
      "outputs": [
        {
          "output_type": "stream",
          "name": "stdout",
          "text": [
            "{'y', 'x'}\n"
          ]
        }
      ]
    },
    {
      "cell_type": "code",
      "source": [
        "\n",
        "\n",
        "# Use the '-' operator to find the set of keys in dictionary 'a' that are not present in dictionary 'b'\n",
        "# This operation returns a set containing keys unique to dictionary 'a'\n",
        "keys_only_in_a = a.keys() - b.keys()\n",
        "\n",
        "# Print the set of keys that are in dictionary 'a' but not in dictionary 'b'\n",
        "print(keys_only_in_a)\n"
      ],
      "metadata": {
        "colab": {
          "base_uri": "https://localhost:8080/"
        },
        "id": "F7fdCQ_5y_Uc",
        "outputId": "10d20322-ea31-40b1-dfa2-0681868c341e"
      },
      "execution_count": 30,
      "outputs": [
        {
          "output_type": "stream",
          "name": "stdout",
          "text": [
            "{'z'}\n"
          ]
        }
      ]
    },
    {
      "cell_type": "code",
      "source": [
        "\n",
        "\n",
        "# Use the '&' operator to find the intersection of (key, value) pairs in dictionaries 'a' and 'b'\n",
        "# This operation returns a set containing (key, value) pairs that are common to both dictionaries\n",
        "common_items = a.items() & b.items()\n",
        "\n",
        "# Print the set of (key, value) pairs that are common to both dictionaries\n",
        "print(common_items)\n"
      ],
      "metadata": {
        "colab": {
          "base_uri": "https://localhost:8080/"
        },
        "id": "dM9ydH0SzERL",
        "outputId": "f2d3b409-94c9-4f88-de56-bfd6b2a24594"
      },
      "execution_count": 29,
      "outputs": [
        {
          "output_type": "stream",
          "name": "stdout",
          "text": [
            "{('y', 2)}\n"
          ]
        }
      ]
    },
    {
      "cell_type": "markdown",
      "source": [
        "These kinds of operations can also be used to alter or filter dictionary contents. For\n",
        "example, suppose you want to make a new dictionary with selected keys removed. Here\n",
        "is some sample code using a dictionary comprehension:"
      ],
      "metadata": {
        "id": "nZnuRFbb0VC6"
      }
    },
    {
      "cell_type": "code",
      "source": [
        "\n",
        "\n",
        "# Use a dictionary comprehension to create a new dictionary 'c' by iterating through keys in 'a'\n",
        "# Include only the key-value pairs where the key is not in the set {'z', 'w'}\n",
        "c = {key: a[key] for key in a.keys() - {'z', 'w'}}\n",
        "\n",
        "# Print the resulting dictionary 'c'\n",
        "print(c)\n"
      ],
      "metadata": {
        "colab": {
          "base_uri": "https://localhost:8080/"
        },
        "id": "8DsodAXp0W6R",
        "outputId": "e83d5d93-8244-4490-82c2-1c918351da2f"
      },
      "execution_count": 32,
      "outputs": [
        {
          "output_type": "stream",
          "name": "stdout",
          "text": [
            "{'y': 2, 'x': 1}\n"
          ]
        }
      ]
    },
    {
      "cell_type": "markdown",
      "source": [
        "# 1.10. Removing Duplicates from a Sequence while\n",
        "# Maintaining Order\n",
        "\n",
        "**Problem:**\n",
        "You want to eliminate the duplicate values in a sequence, but preserve the order of the\n",
        "remaining items.\n",
        "\n"
      ],
      "metadata": {
        "id": "S_u2B7rc1Inf"
      }
    },
    {
      "cell_type": "code",
      "source": [
        "# Define a function 'dedupe' that removes duplicates from a sequence while preserving the order\n",
        "def dedupe(items):\n",
        "    # Create an empty set 'seen' to keep track of unique items\n",
        "    seen = set()\n",
        "\n",
        "    # Iterate through each item in the input sequence\n",
        "    for item in items:\n",
        "        # Check if the item is not already in the set 'seen'\n",
        "        if item not in seen:\n",
        "            # If not, yield the item, indicating a unique occurrence\n",
        "            yield item\n",
        "\n",
        "            # Add the item to the set 'seen' to mark it as seen\n",
        "            seen.add(item)\n"
      ],
      "metadata": {
        "id": "eZoHjXyq5qBA"
      },
      "execution_count": 33,
      "outputs": []
    },
    {
      "cell_type": "code",
      "source": [
        "a = [1, 5, 2, 1, 9, 1, 5, 10]\n",
        "list(dedupe(a))"
      ],
      "metadata": {
        "colab": {
          "base_uri": "https://localhost:8080/"
        },
        "id": "NkHNokSP6ZzH",
        "outputId": "8c0ecd44-8680-4497-aa3d-7f37d1a0deb9"
      },
      "execution_count": 34,
      "outputs": [
        {
          "output_type": "execute_result",
          "data": {
            "text/plain": [
              "[1, 5, 2, 9, 10]"
            ]
          },
          "metadata": {},
          "execution_count": 34
        }
      ]
    },
    {
      "cell_type": "markdown",
      "source": [
        "This only works if the items in the sequence are hashable. If you are trying to eliminate\n",
        "duplicates in a sequence of unhashable types (such as dicts), you can make a slight\n",
        "change to this recipe, as follows:"
      ],
      "metadata": {
        "id": "bD22pRwn6yU-"
      }
    },
    {
      "cell_type": "code",
      "source": [
        "# Define a function 'dedupe' that removes duplicates from a sequence while preserving the order\n",
        "# The 'key' parameter allows customization of the comparison based on a specific attribute or function\n",
        "def dedupe(items, key=None):\n",
        "    # Create an empty set 'seen' to keep track of unique items based on their 'key' values\n",
        "    seen = set()\n",
        "\n",
        "    # Iterate through each item in the input sequence\n",
        "    for item in items:\n",
        "        # Determine the value to be used for comparison based on the 'key' parameter\n",
        "        val = item if key is None else key(item)\n",
        "\n",
        "        # Check if the computed value is not already in the set 'seen'\n",
        "        if val not in seen:\n",
        "            # If not, yield the original item, indicating a unique occurrence\n",
        "            yield item\n",
        "\n",
        "            # Add the computed value to the set 'seen' to mark it as seen\n",
        "            seen.add(val)\n"
      ],
      "metadata": {
        "id": "HZmyM_hC61QG"
      },
      "execution_count": 35,
      "outputs": []
    },
    {
      "cell_type": "markdown",
      "source": [
        "Here, the purpose of the key argument is to specify a function that converts sequence\n",
        "items into a hashable type for the purposes of duplicate detection. Here’s how it works:"
      ],
      "metadata": {
        "id": "Il0m-Noo7bfr"
      }
    },
    {
      "cell_type": "code",
      "source": [
        "\n",
        "\n",
        "# Example usage with a list of dictionaries\n",
        "a = [{'x': 1, 'y': 2}, {'x': 1, 'y': 3}, {'x': 1, 'y': 2}, {'x': 2, 'y': 4}]\n",
        "\n",
        "# Dedupe based on both 'x' and 'y' values\n",
        "print(list(dedupe(a, key=lambda d: (d['x'], d['y']))))\n",
        "\n",
        "# Dedupe based on only the 'x' values\n",
        "print(list(dedupe(a, key=lambda d: d['x'])))\n"
      ],
      "metadata": {
        "colab": {
          "base_uri": "https://localhost:8080/"
        },
        "id": "j04k0juv7mVT",
        "outputId": "3500e57e-15ed-4bcc-afa9-699ca112e833"
      },
      "execution_count": 37,
      "outputs": [
        {
          "output_type": "stream",
          "name": "stdout",
          "text": [
            "[{'x': 1, 'y': 2}, {'x': 1, 'y': 3}, {'x': 2, 'y': 4}]\n",
            "[{'x': 1, 'y': 2}, {'x': 2, 'y': 4}]\n"
          ]
        }
      ]
    },
    {
      "cell_type": "markdown",
      "source": [
        "**Discussion:**\n",
        "\n",
        "If all you want to do is eliminate duplicates, it is often easy enough to make a set. For\n",
        "example:"
      ],
      "metadata": {
        "id": "fSuCMl9u8qwi"
      }
    },
    {
      "cell_type": "code",
      "source": [
        "set(a)"
      ],
      "metadata": {
        "id": "btg6fins8wqk"
      },
      "execution_count": null,
      "outputs": []
    },
    {
      "cell_type": "markdown",
      "source": [
        "# 1.12. Determining the Most Frequently Occurring Items in a Sequence\n",
        "\n",
        "**Problem:**\n",
        "You have a sequence of items, and you’d like to determine the most frequently occurring\n",
        "items in the sequence\n",
        "\n",
        "**Solution:**\n",
        "The collections.Counter class is designed for just such a problem. It even comes with\n",
        "a handy most_common() method that will give you the answer.\n",
        "To illustrate, let’s say you have a list of words and you want to find out which words\n",
        "occur most often. Here’s how you would do it:\n",
        "\n"
      ],
      "metadata": {
        "id": "vMTuEbBu9cBH"
      }
    },
    {
      "cell_type": "code",
      "source": [
        "words = [\n",
        "'look', 'into', 'my', 'eyes', 'look', 'into', 'my', 'eyes',\n",
        "'the', 'eyes', 'the', 'eyes', 'the', 'eyes', 'not', 'around', 'the',\n",
        "'eyes', \"don't\", 'look', 'around', 'the', 'eyes', 'look', 'into',\n",
        "'my', 'eyes', \"you're\", 'under'\n",
        "]"
      ],
      "metadata": {
        "id": "Doc_154u9z3P"
      },
      "execution_count": 42,
      "outputs": []
    },
    {
      "cell_type": "code",
      "source": [
        "from collections import Counter\n",
        "\n",
        "word_counts = Counter(words)\n",
        "top_three = word_counts.most_common(3)\n",
        "print(top_three)"
      ],
      "metadata": {
        "colab": {
          "base_uri": "https://localhost:8080/"
        },
        "id": "vqM3u4tp-J6g",
        "outputId": "e5b0a26d-9b44-4aab-ac48-45c411d76bfb"
      },
      "execution_count": 43,
      "outputs": [
        {
          "output_type": "stream",
          "name": "stdout",
          "text": [
            "[('eyes', 8), ('the', 5), ('look', 4)]\n"
          ]
        }
      ]
    },
    {
      "cell_type": "markdown",
      "source": [
        "**Discussion:**\n",
        "As input, Counter objects can be fed any sequence of hashable input items. Under the\n",
        "covers, a Counter is a dictionary that maps the items to the number of occurrences. For\n",
        "example:"
      ],
      "metadata": {
        "id": "4tiZykA--rlo"
      }
    },
    {
      "cell_type": "code",
      "source": [
        "print(word_counts['not'])\n",
        "print(word_counts['eyes'])"
      ],
      "metadata": {
        "colab": {
          "base_uri": "https://localhost:8080/"
        },
        "id": "1lTkmvyQ-wZ_",
        "outputId": "1bddc1dc-dcbf-4968-b069-1fdb4c2cddeb"
      },
      "execution_count": 46,
      "outputs": [
        {
          "output_type": "stream",
          "name": "stdout",
          "text": [
            "1\n",
            "8\n"
          ]
        }
      ]
    },
    {
      "cell_type": "markdown",
      "source": [
        "If you want to increment the count manually, simply use addition:"
      ],
      "metadata": {
        "id": "hvFsetZR_NXv"
      }
    },
    {
      "cell_type": "code",
      "source": [
        "morewords = ['why','are','you','not','looking','in','my','eyes']\n",
        "for word in morewords:\n",
        "    word_counts[word] += 1\n",
        "print(word_counts['eyes'])\n",
        "\n",
        "#Or, alternatively, you could use the update() method:\n",
        "word_counts.update(morewords)"
      ],
      "metadata": {
        "colab": {
          "base_uri": "https://localhost:8080/"
        },
        "id": "JZ4efdfq_QRG",
        "outputId": "81297357-8f9d-467d-f3ef-307434e47e3a"
      },
      "execution_count": 49,
      "outputs": [
        {
          "output_type": "stream",
          "name": "stdout",
          "text": [
            "11\n"
          ]
        }
      ]
    },
    {
      "cell_type": "markdown",
      "source": [
        "A little-known feature of Counter instances is that they can be easily combined using\n",
        "various mathematical operations."
      ],
      "metadata": {
        "id": "D7y2o8BX_3Mm"
      }
    },
    {
      "cell_type": "code",
      "source": [
        "a = Counter(words)\n",
        "b = Counter(morewords)\n",
        "print(a)\n",
        "print(b)\n",
        "\n",
        "# Combine counts\n",
        "c = a + b\n",
        "print(c)\n",
        "\n",
        "# Subtract counts\n",
        "d = a - b\n",
        "print(d)"
      ],
      "metadata": {
        "colab": {
          "base_uri": "https://localhost:8080/"
        },
        "id": "h5BNcEWn_5YZ",
        "outputId": "76325516-4d68-4da5-ea84-70b23791028d"
      },
      "execution_count": 53,
      "outputs": [
        {
          "output_type": "stream",
          "name": "stdout",
          "text": [
            "Counter({'eyes': 8, 'the': 5, 'look': 4, 'into': 3, 'my': 3, 'around': 2, 'not': 1, \"don't\": 1, \"you're\": 1, 'under': 1})\n",
            "Counter({'why': 1, 'are': 1, 'you': 1, 'not': 1, 'looking': 1, 'in': 1, 'my': 1, 'eyes': 1})\n",
            "Counter({'eyes': 9, 'the': 5, 'look': 4, 'my': 4, 'into': 3, 'not': 2, 'around': 2, \"don't\": 1, \"you're\": 1, 'under': 1, 'why': 1, 'are': 1, 'you': 1, 'looking': 1, 'in': 1})\n",
            "Counter({'eyes': 7, 'the': 5, 'look': 4, 'into': 3, 'my': 2, 'around': 2, \"don't\": 1, \"you're\": 1, 'under': 1})\n"
          ]
        }
      ]
    },
    {
      "cell_type": "markdown",
      "source": [
        "# 1.13. Sorting a List of Dictionaries by a Common Key\n",
        "\n",
        "**Problem:**\n",
        "You have a list of dictionaries and you would like to sort the entries according to one\n",
        "or more of the dictionary values.\n",
        "\n",
        "**Solution:**\n",
        "Sorting this type of structure is easy using the operator module’s itemgetter function.\n",
        "Let’s say you’ve queried a database table to get a listing of the members on your website,\n",
        "and you receive the following data structure in return:"
      ],
      "metadata": {
        "id": "E2s-RcXSA83W"
      }
    },
    {
      "cell_type": "code",
      "source": [
        "rows = [\n",
        "{'fname': 'Brian', 'lname': 'Jones', 'uid': 1003},\n",
        "{'fname': 'David', 'lname': 'Beazley', 'uid': 1002},\n",
        "{'fname': 'John', 'lname': 'Cleese', 'uid': 1001},\n",
        "{'fname': 'Big', 'lname': 'Jones', 'uid': 1004}\n",
        "]"
      ],
      "metadata": {
        "id": "M1yBBlM2BLsj"
      },
      "execution_count": 54,
      "outputs": []
    },
    {
      "cell_type": "markdown",
      "source": [
        "It’s fairly easy to output these rows ordered by any of the fields common to all of the\n",
        "dictionaries. For example:"
      ],
      "metadata": {
        "id": "SegfA_h8BZgG"
      }
    },
    {
      "cell_type": "code",
      "source": [
        "# Import the 'itemgetter' function from the 'operator' module\n",
        "from operator import itemgetter\n",
        "\n",
        "# Assuming 'rows' is a list of dictionaries\n",
        "\n",
        "# Sort the list of dictionaries 'rows' based on the 'fname' key using the 'itemgetter' function\n",
        "rows_by_fname = sorted(rows, key=itemgetter('fname'))\n",
        "\n",
        "# Sort the list of dictionaries 'rows' based on the 'uid' key using the 'itemgetter' function\n",
        "rows_by_uid = sorted(rows, key=itemgetter('uid'))\n",
        "\n",
        "# Print the sorted list of dictionaries based on 'fname'\n",
        "print(\"Sorted by 'fname':\")\n",
        "print(rows_by_fname)\n",
        "\n",
        "# Print the sorted list of dictionaries based on 'uid'\n",
        "print(\"\\nSorted by 'uid':\")\n",
        "print(rows_by_uid)\n",
        "\n",
        "#The itemgetter() function can also accept multiple keys. For example, this code\n",
        "rows_by_lfname = sorted(rows, key=itemgetter('lname','fname'))\n",
        "print(\"\\nSorted by 'lname','fname':\")\n",
        "print(rows_by_lfname)\n"
      ],
      "metadata": {
        "colab": {
          "base_uri": "https://localhost:8080/"
        },
        "id": "bY452ydeBbZr",
        "outputId": "43be3593-3887-4cbf-e9d8-e0f3761764d0"
      },
      "execution_count": 57,
      "outputs": [
        {
          "output_type": "stream",
          "name": "stdout",
          "text": [
            "Sorted by 'fname':\n",
            "[{'fname': 'Big', 'lname': 'Jones', 'uid': 1004}, {'fname': 'Brian', 'lname': 'Jones', 'uid': 1003}, {'fname': 'David', 'lname': 'Beazley', 'uid': 1002}, {'fname': 'John', 'lname': 'Cleese', 'uid': 1001}]\n",
            "\n",
            "Sorted by 'uid':\n",
            "[{'fname': 'John', 'lname': 'Cleese', 'uid': 1001}, {'fname': 'David', 'lname': 'Beazley', 'uid': 1002}, {'fname': 'Brian', 'lname': 'Jones', 'uid': 1003}, {'fname': 'Big', 'lname': 'Jones', 'uid': 1004}]\n",
            "\n",
            "Sorted by 'lname','fname':\n",
            "[{'fname': 'David', 'lname': 'Beazley', 'uid': 1002}, {'fname': 'John', 'lname': 'Cleese', 'uid': 1001}, {'fname': 'Big', 'lname': 'Jones', 'uid': 1004}, {'fname': 'Brian', 'lname': 'Jones', 'uid': 1003}]\n"
          ]
        }
      ]
    },
    {
      "cell_type": "markdown",
      "source": [
        "The functionality of itemgetter() is sometimes replaced by lambda expressions. For\n",
        "example:"
      ],
      "metadata": {
        "id": "hClZu9i4DDgI"
      }
    },
    {
      "cell_type": "code",
      "source": [
        "rows_by_fname = sorted(rows, key=lambda r: r['fname'])\n",
        "rows_by_lfname = sorted(rows, key=lambda r: (r['lname'],r['fname']))\n",
        "print(\"Sorted by 'fname':\")\n",
        "print(rows_by_fname)\n",
        "print(\"\\nSorted by 'lname','fname':\")\n",
        "print(rows_by_lfname)"
      ],
      "metadata": {
        "colab": {
          "base_uri": "https://localhost:8080/"
        },
        "id": "zSLFTFvhDE1A",
        "outputId": "20e74ddf-55e4-47be-98e5-2e021ad28584"
      },
      "execution_count": 59,
      "outputs": [
        {
          "output_type": "stream",
          "name": "stdout",
          "text": [
            "Sorted by 'fname':\n",
            "[{'fname': 'Big', 'lname': 'Jones', 'uid': 1004}, {'fname': 'Brian', 'lname': 'Jones', 'uid': 1003}, {'fname': 'David', 'lname': 'Beazley', 'uid': 1002}, {'fname': 'John', 'lname': 'Cleese', 'uid': 1001}]\n",
            "\n",
            "Sorted by 'lname','fname':\n",
            "[{'fname': 'David', 'lname': 'Beazley', 'uid': 1002}, {'fname': 'John', 'lname': 'Cleese', 'uid': 1001}, {'fname': 'Big', 'lname': 'Jones', 'uid': 1004}, {'fname': 'Brian', 'lname': 'Jones', 'uid': 1003}]\n"
          ]
        }
      ]
    },
    {
      "cell_type": "markdown",
      "source": [
        "Last, but not least, don’t forget that the technique shown in this recipe can be applied\n",
        "to functions such as min() and max(). For example:"
      ],
      "metadata": {
        "id": "SYYpvyuRD-hE"
      }
    },
    {
      "cell_type": "code",
      "source": [
        "print(min(rows,key = itemgetter(\"uid\")))\n",
        "print(max(rows,key = itemgetter(\"uid\")))"
      ],
      "metadata": {
        "colab": {
          "base_uri": "https://localhost:8080/"
        },
        "id": "XtotUeNEDz0W",
        "outputId": "5129a2c4-b6e2-4f87-8f12-5efa00710e9d"
      },
      "execution_count": 61,
      "outputs": [
        {
          "output_type": "stream",
          "name": "stdout",
          "text": [
            "{'fname': 'John', 'lname': 'Cleese', 'uid': 1001}\n",
            "{'fname': 'Big', 'lname': 'Jones', 'uid': 1004}\n"
          ]
        }
      ]
    },
    {
      "cell_type": "markdown",
      "source": [
        "# 1.14. Sorting Objects Without Native Comparison Support\n",
        "\n",
        "**Problem:**\n",
        "You want to sort objects of the same class, but they don’t natively support comparison\n",
        "operations.\n",
        "\n",
        "**Solution:**\n",
        "The built-in sorted() function takes a key argument that can be passed a callable that\n",
        "will return some value in the object that sorted will use to compare the objects. For\n",
        "example, if you have a sequence of User instances in your application, and you want to\n",
        "sort them by their user_id attribute, you would supply a callable that takes a User\n",
        "instance as input and returns the user_id. For example:"
      ],
      "metadata": {
        "id": "_AtDZngHEw5Y"
      }
    },
    {
      "cell_type": "code",
      "source": [
        "# Define a 'User' class with an '__init__' method to initialize user objects\n",
        "# The '__repr__' method is defined to provide a string representation of the object for debugging and display\n",
        "class User:\n",
        "    def __init__(self, user_id):\n",
        "        # Initialize a 'user_id' attribute for each user object\n",
        "        self.user_id = user_id\n",
        "\n",
        "    def __repr__(self):\n",
        "        # Return a string representation of the user object, using the 'user_id'\n",
        "        return 'User({})'.format(self.user_id)\n",
        "\n",
        "# Create a list of 'User' objects with different user IDs\n",
        "users = [User(23), User(3), User(99)]\n",
        "\n",
        "sorted(users, key=lambda u: u.user_id)\n"
      ],
      "metadata": {
        "colab": {
          "base_uri": "https://localhost:8080/"
        },
        "id": "IqnxG3B5E5oE",
        "outputId": "1ed2852f-27ec-490a-dbcb-76f7602fbc21"
      },
      "execution_count": 64,
      "outputs": [
        {
          "output_type": "execute_result",
          "data": {
            "text/plain": [
              "[User(3), User(23), User(99)]"
            ]
          },
          "metadata": {},
          "execution_count": 64
        }
      ]
    },
    {
      "cell_type": "markdown",
      "source": [
        "Instead of using lambda, an alternative approach is to use operator.attrgetter():"
      ],
      "metadata": {
        "id": "nl_RWG6kGGHY"
      }
    },
    {
      "cell_type": "code",
      "source": [
        "from operator import attrgetter\n",
        "\n",
        "sorted(users, key=attrgetter('user_id'))\n"
      ],
      "metadata": {
        "colab": {
          "base_uri": "https://localhost:8080/"
        },
        "id": "pDMHz5QvGHbo",
        "outputId": "f27e8e2b-1e95-4a25-cba2-3b11d48d0d01"
      },
      "execution_count": 65,
      "outputs": [
        {
          "output_type": "execute_result",
          "data": {
            "text/plain": [
              "[User(3), User(23), User(99)]"
            ]
          },
          "metadata": {},
          "execution_count": 65
        }
      ]
    },
    {
      "cell_type": "markdown",
      "source": [
        "**Discussion:**\n",
        "\n",
        "The choice of whether or not to use lambda or attrgetter() may be one of personal\n",
        "preference. However, attrgetter() is often a tad bit faster and also has the added\n",
        "feature of allowing multiple fields to be extracted simultaneously. This is analogous to\n",
        "the use of operator.itemgetter() for dictionaries (see Recipe 1.13). For example, if\n",
        "User instances also had a first_name and last_name attribute, you could perform a\n",
        "sort like this:"
      ],
      "metadata": {
        "id": "Dbkrebt-GfSQ"
      }
    },
    {
      "cell_type": "code",
      "source": [
        "by_name = sorted(users, key=attrgetter('last_name', 'first_name'))"
      ],
      "metadata": {
        "id": "cX1pIQn5GtTq"
      },
      "execution_count": null,
      "outputs": []
    },
    {
      "cell_type": "markdown",
      "source": [
        "It is also worth noting that the technique used in this recipe can be applied to functions\n",
        "such as min() and max(). For example:"
      ],
      "metadata": {
        "id": "UYLn2Tc0HCmE"
      }
    },
    {
      "cell_type": "code",
      "source": [
        "print(min(users, key=attrgetter('user_id')))\n",
        "print(max(users,key=attrgetter(\"user_id\")))\n"
      ],
      "metadata": {
        "colab": {
          "base_uri": "https://localhost:8080/"
        },
        "id": "QmQmKd3nHEMU",
        "outputId": "0e3a43cd-59dc-4838-a5c7-9575653ea1f9"
      },
      "execution_count": 69,
      "outputs": [
        {
          "output_type": "stream",
          "name": "stdout",
          "text": [
            "User(3)\n",
            "User(99)\n"
          ]
        }
      ]
    },
    {
      "cell_type": "markdown",
      "source": [
        "# 1.15. Grouping Records Together Based on a Field\n",
        "\n",
        "**Problem:**\n",
        "You have a sequence of dictionaries or instances and you want to iterate over the data\n",
        "in groups based on the value of a particular field, such as date.\n",
        "\n",
        "**Solution:**\n",
        "The itertools.groupby() function is particularly useful for grouping data together\n",
        "like this. To illustrate, suppose you have the following list of dictionaries:"
      ],
      "metadata": {
        "id": "j22g75CjHpQC"
      }
    },
    {
      "cell_type": "code",
      "source": [
        "rows = [\n",
        "{'address': '5412 N CLARK', 'date': '07/01/2012'},\n",
        "{'address': '5148 N CLARK', 'date': '07/04/2012'},\n",
        "{'address': '5800 E 58TH', 'date': '07/02/2012'},\n",
        "{'address': '2122 N CLARK', 'date': '07/03/2012'},\n",
        "{'address': '5645 N RAVENSWOOD', 'date': '07/02/2012'},\n",
        "{'address': '1060 W ADDISON', 'date': '07/02/2012'},\n",
        "{'address': '4801 N BROADWAY', 'date': '07/01/2012'},\n",
        "{'address': '1039 W GRANVILLE', 'date': '07/04/2012'},\n",
        "]"
      ],
      "metadata": {
        "id": "ClSqF6fYYGb6"
      },
      "execution_count": 70,
      "outputs": []
    },
    {
      "cell_type": "markdown",
      "source": [
        "Now suppose you want to iterate over the data in chunks grouped by date. To do it, first\n",
        "sort by the desired field (in this case, date) and then use itertools.groupby(): **bold text**"
      ],
      "metadata": {
        "id": "TsK91TBeYRLN"
      }
    },
    {
      "cell_type": "code",
      "source": [
        "# Import the 'itemgetter' function from the 'operator' module\n",
        "# Import the 'groupby' function from the 'itertools' module\n",
        "from operator import itemgetter\n",
        "from itertools import groupby\n",
        "\n",
        "# Assuming 'rows' is a list of dictionaries with a 'date' key\n",
        "\n",
        "# Sort the list of dictionaries 'rows' based on the 'date' key using the 'itemgetter' function\n",
        "rows.sort(key=itemgetter('date'))\n",
        "\n",
        "# Iterate through the grouped items based on the 'date' key\n",
        "for date, items in groupby(rows, key=itemgetter('date')):\n",
        "    # Print the date, which is the common key for the group\n",
        "    print(date)\n",
        "\n",
        "    # Iterate through the items within the current group\n",
        "    for i in items:\n",
        "        # Print each item in the group\n",
        "        print(i)\n"
      ],
      "metadata": {
        "colab": {
          "base_uri": "https://localhost:8080/"
        },
        "id": "Amkqn2-AYYOH",
        "outputId": "ce2b1bf8-e67d-4a0e-c893-1462ea5ed5f9"
      },
      "execution_count": 71,
      "outputs": [
        {
          "output_type": "stream",
          "name": "stdout",
          "text": [
            "07/01/2012\n",
            "{'address': '5412 N CLARK', 'date': '07/01/2012'}\n",
            "{'address': '4801 N BROADWAY', 'date': '07/01/2012'}\n",
            "07/02/2012\n",
            "{'address': '5800 E 58TH', 'date': '07/02/2012'}\n",
            "{'address': '5645 N RAVENSWOOD', 'date': '07/02/2012'}\n",
            "{'address': '1060 W ADDISON', 'date': '07/02/2012'}\n",
            "07/03/2012\n",
            "{'address': '2122 N CLARK', 'date': '07/03/2012'}\n",
            "07/04/2012\n",
            "{'address': '5148 N CLARK', 'date': '07/04/2012'}\n",
            "{'address': '1039 W GRANVILLE', 'date': '07/04/2012'}\n"
          ]
        }
      ]
    },
    {
      "cell_type": "markdown",
      "source": [
        "If your goal is to simply group the data together by dates into a large data structure that\n",
        "allows random access, you may have better luck using defaultdict() to build a\n",
        "multidict, as described in Recipe 1.6. For example:"
      ],
      "metadata": {
        "id": "wMluOV7caNfs"
      }
    },
    {
      "cell_type": "code",
      "source": [
        "# Import the 'defaultdict' class from the 'collections' module\n",
        "from collections import defaultdict\n",
        "\n",
        "# Assuming 'rows' is a list of dictionaries with a 'date' key\n",
        "\n",
        "# Create a defaultdict with lists as default values to organize rows by date\n",
        "rows_by_date = defaultdict(list)\n",
        "\n",
        "# Iterate through each row in the list of dictionaries\n",
        "for row in rows:\n",
        "    # Append the current row to the list associated with its 'date' key in 'rows_by_date'\n",
        "    rows_by_date[row['date']].append(row)\n",
        "\n",
        "# This allows the records for each date to be accessed easily\n",
        "# For example, printing records for the date '07/01/2012'\n",
        "for r in rows_by_date['07/01/2012']:\n",
        "    print(r)\n",
        ""
      ],
      "metadata": {
        "colab": {
          "base_uri": "https://localhost:8080/"
        },
        "id": "L8LzunkZaPHz",
        "outputId": "7da79f7e-302a-4d8f-a778-f9c3d981169e"
      },
      "execution_count": 73,
      "outputs": [
        {
          "output_type": "stream",
          "name": "stdout",
          "text": [
            "{'address': '5412 N CLARK', 'date': '07/01/2012'}\n",
            "{'address': '4801 N BROADWAY', 'date': '07/01/2012'}\n"
          ]
        }
      ]
    },
    {
      "cell_type": "markdown",
      "source": [
        "# 1.16. Filtering Sequence Elements\n",
        "\n",
        "**Problem:**\n",
        "You have data inside of a sequence, and need to extract values or reduce the sequence\n",
        "using some criteria.\n",
        "\n",
        "**Solution:**\n",
        "The easiest way to filter sequence data is often to use a list comprehension. For example:"
      ],
      "metadata": {
        "id": "zeWXFqqubiK9"
      }
    },
    {
      "cell_type": "code",
      "source": [
        "mylist = [1, 4, -5, 10, -7, 2, 3, -1]\n",
        "print([n for n in mylist if n > 0])\n",
        "print([n for n in mylist if n < 0])\n"
      ],
      "metadata": {
        "colab": {
          "base_uri": "https://localhost:8080/"
        },
        "id": "vCrR-QWLbt_v",
        "outputId": "4b876632-ffb7-4d0a-f05f-2ad4875c5c71"
      },
      "execution_count": 76,
      "outputs": [
        {
          "output_type": "stream",
          "name": "stdout",
          "text": [
            "[1, 4, 10, 2, 3]\n",
            "[-5, -7, -1]\n"
          ]
        }
      ]
    },
    {
      "cell_type": "markdown",
      "source": [
        "One potential downside of using a list comprehension is that it might produce a large\n",
        "result if the original input is large. If this is a concern, you can use generator expressions\n",
        "to produce the filtered values iteratively. For example:"
      ],
      "metadata": {
        "id": "jVmfNxt7cyUJ"
      }
    },
    {
      "cell_type": "code",
      "source": [
        "pos = (n for n in mylist if n > 0)\n",
        "print(pos)\n",
        "\n",
        "for x in pos:\n",
        "    print(x)"
      ],
      "metadata": {
        "colab": {
          "base_uri": "https://localhost:8080/"
        },
        "id": "z64lWoIFc0WL",
        "outputId": "b91e064b-91be-4cf2-ad09-e9365bbddbf8"
      },
      "execution_count": 79,
      "outputs": [
        {
          "output_type": "stream",
          "name": "stdout",
          "text": [
            "<generator object <genexpr> at 0x7f789f5b6420>\n",
            "1\n",
            "4\n",
            "10\n",
            "2\n",
            "3\n"
          ]
        }
      ]
    },
    {
      "cell_type": "markdown",
      "source": [
        "Sometimes, the filtering criteria cannot be easily expressed in a list comprehension or\n",
        "generator expression. For example, suppose that the filtering process involves exception\n",
        "handling or some other complicated detail. For this, put the filtering code into its own\n",
        "function and use the built-in filter() function. For example:"
      ],
      "metadata": {
        "id": "38OxOr4UdrCM"
      }
    },
    {
      "cell_type": "code",
      "source": [
        "# Define a list of values, including strings representing integers, non-numeric characters, and 'N/A'\n",
        "values = ['1', '2', '-3', '-', '4', 'N/A', '5']\n",
        "\n",
        "# Define a function 'is_int' to check if a given value can be converted to an integer\n",
        "def is_int(val):\n",
        "    try:\n",
        "        # Attempt to convert the value to an integer\n",
        "        x = int(val)\n",
        "        # If successful, return True\n",
        "        return True\n",
        "    except ValueError:\n",
        "        # If a ValueError occurs, return False\n",
        "        return False\n",
        "\n",
        "# Use the 'filter' function to create a list of values that can be converted to integers\n",
        "ivals = list(filter(is_int, values))\n",
        "#filter() creates an iterator, so if you want to create a list of results, make sure you also\n",
        "#use list() as shown.\n",
        "\n",
        "# Print the resulting list of integer values\n",
        "print(ivals)\n"
      ],
      "metadata": {
        "colab": {
          "base_uri": "https://localhost:8080/"
        },
        "id": "DOurEiFDdsQN",
        "outputId": "20509d42-76be-4854-d6d3-5206277c4d95"
      },
      "execution_count": 81,
      "outputs": [
        {
          "output_type": "stream",
          "name": "stdout",
          "text": [
            "['1', '2', '-3', '4', '5']\n"
          ]
        }
      ]
    },
    {
      "cell_type": "markdown",
      "source": [
        "**Discussion:**\n",
        "\n",
        "List comprehensions and generator expressions are often the easiest and most straightforward\n",
        "ways to filter simple data. They also have the added power to transform the\n",
        "data at the same time. For example:"
      ],
      "metadata": {
        "id": "5BAwCnHDpPBE"
      }
    },
    {
      "cell_type": "code",
      "source": [
        "import math\n",
        "\n",
        "mylist = [1, 4, -5, 10, -7, 2, 3, -1]\n",
        "\n",
        "# Use a list comprehension to create a new list containing the square root of positive numbers in 'mylist'\n",
        "# The condition 'if n > 0' filters out non-positive numbers\n",
        "sqrt_list = [math.sqrt(n) for n in mylist if n > 0]\n",
        "\n",
        "# Print the resulting list of square roots\n",
        "print(sqrt_list)\n",
        "\n",
        "\n"
      ],
      "metadata": {
        "colab": {
          "base_uri": "https://localhost:8080/"
        },
        "id": "EQmSjxikpTMe",
        "outputId": "3413080a-7d27-438a-f107-4eaeb56d26d6"
      },
      "execution_count": 82,
      "outputs": [
        {
          "output_type": "execute_result",
          "data": {
            "text/plain": [
              "[1.0, 2.0, 3.1622776601683795, 1.4142135623730951, 1.7320508075688772]"
            ]
          },
          "metadata": {},
          "execution_count": 82
        }
      ]
    },
    {
      "cell_type": "markdown",
      "source": [
        "One variation on filtering involves replacing the values that don’t meet the criteria with\n",
        "a new value instead of discarding them. For example, perhaps instead of just finding\n",
        "positive values, you want to also clip bad values to fit within a specified range. This is\n",
        "often easily accomplished by moving the filter criterion into a conditional expression\n",
        "like this:"
      ],
      "metadata": {
        "id": "T21S6kfPqfD8"
      }
    },
    {
      "cell_type": "code",
      "source": [
        "\n",
        "# Use a list comprehension to create a new list ('clip_neg') that contains each element in 'mylist'\n",
        "# If the element is greater than 0, keep it; otherwise, replace it with 0\n",
        "clip_neg = [n if n > 0 else 0 for n in mylist]\n",
        "\n",
        "# Print the resulting list after applying the condition\n",
        "print(clip_neg)\n",
        "\n",
        "# Use a list comprehension to create a new list ('clip_neg') that contains each element in 'mylist'\n",
        "# If the element is less than 0, keep it; otherwise, replace it with 0\n",
        "clip_pos = [n if n < 0 else 0 for n in mylist]\n",
        "print(clip_pos)\n"
      ],
      "metadata": {
        "colab": {
          "base_uri": "https://localhost:8080/"
        },
        "id": "gWI97fzhqgkr",
        "outputId": "2937cb39-4fa1-490e-91d7-56ec540d9b46"
      },
      "execution_count": 84,
      "outputs": [
        {
          "output_type": "stream",
          "name": "stdout",
          "text": [
            "[1, 4, 0, 10, 0, 2, 3, 0]\n",
            "[0, 0, -5, 0, -7, 0, 0, -1]\n"
          ]
        }
      ]
    },
    {
      "cell_type": "markdown",
      "source": [
        "Another notable filtering tool is itertools.compress(), which takes an iterable and\n",
        "an accompanying Boolean selector sequence as input. As output, it gives you all of the\n",
        "items in the iterable where the corresponding element in the selector is True. This can\n",
        "be useful if you’re trying to apply the results of filtering one sequence to another related\n",
        "sequence. For example, suppose you have the following two columns of data:"
      ],
      "metadata": {
        "id": "JtsR7GH3sO68"
      }
    },
    {
      "cell_type": "code",
      "source": [
        "addresses = [\n",
        "'5412 N CLARK',\n",
        "'5148 N CLARK',\n",
        "'5800 E 58TH',\n",
        "'2122 N CLARK'\n",
        "'5645 N RAVENSWOOD',\n",
        "'1060 W ADDISON',\n",
        "'4801 N BROADWAY',\n",
        "'1039 W GRANVILLE',\n",
        "]\n",
        "\n",
        "counts = [ 0, 3, 10, 4, 1, 7, 6, 1]"
      ],
      "metadata": {
        "id": "7xCHtVWUsQia"
      },
      "execution_count": 85,
      "outputs": []
    },
    {
      "cell_type": "markdown",
      "source": [
        "Now suppose you want to make a list of all addresses where the corresponding count\n",
        "value was greater than 5. Here’s how you could do it:"
      ],
      "metadata": {
        "id": "8M5mOfSxsc7g"
      }
    },
    {
      "cell_type": "code",
      "source": [
        "\n",
        "\n",
        "# Use a list comprehension to create a boolean list ('more5') indicating whether each element in 'counts' is greater than 5\n",
        "more5 = [n > 5 for n in counts]\n",
        "\n",
        "# Print the boolean list indicating elements greater than 5\n",
        "print(\"Boolean list indicating counts greater than 5:\")\n",
        "print(more5)\n",
        "\n",
        "# Use the 'compress' function from the 'itertools' module to filter 'addresses' based on the boolean values in 'more5'\n",
        "# This creates a new list containing only the addresses corresponding to True values in 'more5'\n",
        "filtered_addresses = list(compress(addresses, more5))\n",
        "\n",
        "# Print the resulting list of addresses after filtering\n",
        "print(\"\\nFiltered addresses with counts greater than 5:\")\n",
        "print(filtered_addresses)\n"
      ],
      "metadata": {
        "colab": {
          "base_uri": "https://localhost:8080/"
        },
        "id": "otTsi4_2secx",
        "outputId": "ea570029-149a-4118-fd0f-32e93de376d9"
      },
      "execution_count": 87,
      "outputs": [
        {
          "output_type": "stream",
          "name": "stdout",
          "text": [
            "Boolean list indicating counts greater than 5:\n",
            "[False, False, True, False, False, True, True, False]\n",
            "\n",
            "Filtered addresses with counts greater than 5:\n",
            "['5800 E 58TH', '4801 N BROADWAY', '1039 W GRANVILLE']\n"
          ]
        }
      ]
    },
    {
      "cell_type": "markdown",
      "source": [
        "# 1.17. Extracting a Subset of a Dictionary\n",
        "\n",
        "**Problem:**\n",
        "You want to make a dictionary that is a subset of another dictionary\n",
        "\n",
        "**Solution:**\n",
        "This is easily accomplished using a dictionary comprehension. For example:"
      ],
      "metadata": {
        "id": "nUlmBOtit_Ft"
      }
    },
    {
      "cell_type": "code",
      "source": [
        "prices = {\n",
        "'ACME': 45.23,\n",
        "'AAPL': 612.78,\n",
        "'IBM': 205.55,\n",
        "'HPQ': 37.20,\n",
        "'FB': 10.75\n",
        "}\n",
        "\n",
        "\n",
        "# Make a dictionary ('p1') of all prices over 200 using a dictionary comprehension\n",
        "# Only include key-value pairs where the value is greater than 200\n",
        "p1 = {key: value for key, value in prices.items() if value > 200}\n",
        "\n",
        "# Print the resulting dictionary of prices over 200\n",
        "print(\"Dictionary of prices over 200:\")\n",
        "print(p1)\n",
        "\n",
        "# Make a dictionary ('p2') of tech stocks using a dictionary comprehension\n",
        "# Only include key-value pairs where the key is in the set of tech stock names\n",
        "tech_names = {'AAPL', 'IBM', 'HPQ', 'MSFT'}\n",
        "p2 = {key: value for key, value in prices.items() if key in tech_names}\n",
        "\n",
        "# Print the resulting dictionary of tech stocks and their prices\n",
        "print(\"\\nDictionary of tech stocks and their prices:\")\n",
        "print(p2)\n"
      ],
      "metadata": {
        "colab": {
          "base_uri": "https://localhost:8080/"
        },
        "id": "bkmYwWofuNru",
        "outputId": "ee322e8a-61fe-4011-b0df-3bf67da6c0c1"
      },
      "execution_count": 88,
      "outputs": [
        {
          "output_type": "stream",
          "name": "stdout",
          "text": [
            "Dictionary of prices over 200:\n",
            "{'AAPL': 612.78, 'IBM': 205.55}\n",
            "\n",
            "Dictionary of tech stocks and their prices:\n",
            "{'AAPL': 612.78, 'IBM': 205.55, 'HPQ': 37.2}\n"
          ]
        }
      ]
    },
    {
      "cell_type": "markdown",
      "source": [
        "**Discussion:**\n",
        "\n",
        "Much of what can be accomplished with a dictionary comprehension might also be done\n",
        "by creating a sequence of tuples and passing them to the dict() function. For example:"
      ],
      "metadata": {
        "id": "S1EyZ_4FwNLy"
      }
    },
    {
      "cell_type": "code",
      "source": [
        "\n",
        "\n",
        "# Make a dictionary ('p1') of all prices over 200 using the 'dict' constructor with a generator expression\n",
        "# Only include key-value pairs where the value is greater than 200\n",
        "p1 = dict((key, value) for key, value in prices.items() if value > 200)\n",
        "\n",
        "# Print the resulting dictionary of prices over 200\n",
        "print(\"Dictionary of prices over 200:\")\n",
        "print(p1)\n",
        "\n",
        "# Make a dictionary ('p2') of tech stocks using a dictionary comprehension\n",
        "# Only include key-value pairs where the key is in the set of tech stock names\n",
        "tech_names = {'AAPL', 'IBM', 'HPQ', 'MSFT'}\n",
        "p2 = {key: prices[key] for key in prices.keys() & tech_names}\n",
        "\n",
        "# Print the resulting dictionary of tech stocks and their prices\n",
        "print(\"\\nDictionary of tech stocks and their prices:\")\n",
        "print(p2)\n"
      ],
      "metadata": {
        "colab": {
          "base_uri": "https://localhost:8080/"
        },
        "id": "NuveZFDDwT7v",
        "outputId": "62e60c35-525b-498f-c4bd-bcf5b3b4a14a"
      },
      "execution_count": 90,
      "outputs": [
        {
          "output_type": "stream",
          "name": "stdout",
          "text": [
            "Dictionary of prices over 200:\n",
            "{'AAPL': 612.78, 'IBM': 205.55}\n",
            "\n",
            "Dictionary of tech stocks and their prices:\n",
            "{'IBM': 205.55, 'AAPL': 612.78, 'HPQ': 37.2}\n"
          ]
        }
      ]
    },
    {
      "cell_type": "markdown",
      "source": [
        "# 1.18. Mapping Names to Sequence Elements\n",
        "\n",
        "**Problem:**\n",
        "You have code that accesses list or tuple elements by position, but this makes the code\n",
        "somewhat difficult to read at times. You’d also like to be less dependent on position in\n",
        "the structure, by accessing the elements by name.\n",
        "\n",
        "**Solution:**\n",
        "collections.namedtuple() provides these benefits, while adding minimal overhead\n",
        "over using a normal tuple object. collections.namedtuple() is actually a factory\n",
        "method that returns a subclass of the standard Python tuple type. You feed it a type\n",
        "name, and the fields it should have, and it returns a class that you can instantiate, passing\n",
        "in values for the fields you’ve defined, and so on. For example:"
      ],
      "metadata": {
        "id": "gj5RwTt3yEuv"
      }
    },
    {
      "cell_type": "code",
      "source": [
        "from collections import namedtuple\n",
        "\n",
        "Subscriber = namedtuple(\"Subscriber\",['addr', 'joined'])\n",
        "sub = Subscriber('jonesy@example.com', '2012-10-19')\n",
        "print(sub)\n",
        "\n",
        "Subscriber(addr='jonesy@example.com', joined='2012-10-19')\n",
        "print(sub.addr)\n",
        "print(sub.joined)\n",
        "\n",
        "#Although an instance of a namedtuple looks like a normal class instance, it is interchangeable\n",
        "#with a tuple and supports all of the usual tuple operations such as indexing\n",
        "#and unpacking. For example:\n",
        "len(sub)\n",
        "\n",
        "addr,joine = sub\n",
        "print(sub.addr)\n",
        "print(sub.joined)\n",
        "\n",
        "\n",
        "#A major use case for named tuples is decoupling your code from the position of the\n",
        "#elements it manipulates. So, if you get back a large list of tuples from a database call,\n",
        "#then manipulate them by accessing the positional elements, your code could break if,\n",
        "#say, you added a new column to your table. Not so if you first cast the returned tuples\n",
        "#to namedtuples.\n",
        "#To illustrate, here is some code using ordinary tuples:\n",
        "def compute_cost(records):\n",
        "    total = 0.0\n",
        "    for rec in records:\n",
        "        total += rec[1]*rec[2]\n",
        "    return total\n",
        "\n",
        "\n"
      ],
      "metadata": {
        "colab": {
          "base_uri": "https://localhost:8080/"
        },
        "id": "FGh4rEeayZQc",
        "outputId": "a385f514-2f71-40e1-e00f-7b11973f75e2"
      },
      "execution_count": 9,
      "outputs": [
        {
          "output_type": "stream",
          "name": "stdout",
          "text": [
            "Subscriber(addr='jonesy@example.com', joined='2012-10-19')\n",
            "jonesy@example.com\n",
            "2012-10-19\n",
            "jonesy@example.com\n",
            "2012-10-19\n"
          ]
        }
      ]
    },
    {
      "cell_type": "markdown",
      "source": [
        "# ** Discussion: Mapping Names to Sequence Elements **\n",
        "\n",
        "One possible use of a namedtuple is as a replacement for a dictionary, which requires\n",
        "more space to store. Thus, if you are building large data structures involving dictionaries,\n",
        "use of a namedtuple will be more efficient. However, be aware that unlike a dictionary,\n",
        "a namedtuple is immutable. For example:"
      ],
      "metadata": {
        "id": "Fxov7lsx5sPV"
      }
    },
    {
      "cell_type": "code",
      "source": [
        "#References to positional elements often make the code a bit less expressive and more\n",
        "#dependent on the structure of the records. Here is a version that uses a namedtuple:\n",
        "\n",
        "# Import the 'namedtuple' class from the 'collections' module\n",
        "from collections import namedtuple\n",
        "\n",
        "# Create a named tuple 'Stock' with fields 'name', 'shares', and 'price'\n",
        "Stock = namedtuple(\"Stock\", [\"name\", \"shares\", \"price\"])\n",
        "\n",
        "# Define a function 'compute_cost' that calculates the total cost of stock records\n",
        "# Each record is expected to be a tuple or iterable with values for 'name', 'shares', and 'price'\n",
        "def compute_cost(records):\n",
        "    # Initialize a variable 'total' to store the cumulative cost\n",
        "    total = 0.0\n",
        "\n",
        "    # Iterate through each record in the provided list of records\n",
        "    for rec in records:\n",
        "        # Create a 'Stock' named tuple from the record\n",
        "        s = Stock(*rec)\n",
        "\n",
        "        # Calculate the cost for the current record and add it to the total\n",
        "        # Note: The code seems to have a typo (total = s.shares * s.price), it should be total += s.shares * s.price\n",
        "        total += s.shares * s.price\n",
        "\n",
        "    # Return the total cost\n",
        "    return total\n",
        "\n",
        "\n",
        "s = Stock('ACME', 100, 123.45)\n",
        "print(s)\n",
        "\n",
        "#A subtle use of the _replace() method is that it can be a convenient way to populate\n",
        "#named tuples that have optional or missing fields. To do this, you make a prototype\n",
        "#tuple containing the default values and then use _replace() to create new instances\n",
        "#with values replaced. For example:\n",
        "from collections import namedtuple\n",
        "\n",
        "Stock = namedtuple('Stock', ['name', 'shares', 'price', 'date', 'time'])\n",
        "\n",
        "stock_prototype = Stock('', 0, 0.0, None, None)\n",
        "\n",
        "# Function to convert a dictionary to a Stock\n",
        "def dict_to_stock(s):\n",
        "    return stock_prototype._replace(**s)\n",
        "\n",
        "\n",
        "#Here is an example of how this code would work:\n",
        "a = {'name': 'ACME', 'shares': 100, 'price': 123.45}\n",
        "dict_to_stock(a)\n",
        "b = {'name': 'ACME', 'shares': 100, 'price': 123.45, 'date': '12/17/2012'}\n",
        "dict_to_stock(b)\n"
      ],
      "metadata": {
        "colab": {
          "base_uri": "https://localhost:8080/"
        },
        "id": "yfJW-hYq50ML",
        "outputId": "0bd52209-1909-4d2c-ecd4-07cb59c691df"
      },
      "execution_count": 11,
      "outputs": [
        {
          "output_type": "stream",
          "name": "stdout",
          "text": [
            "Stock(name='ACME', shares=100, price=123.45)\n"
          ]
        },
        {
          "output_type": "execute_result",
          "data": {
            "text/plain": [
              "Stock(name='ACME', shares=100, price=123.45, date='12/17/2012', time=None)"
            ]
          },
          "metadata": {},
          "execution_count": 11
        }
      ]
    },
    {
      "cell_type": "markdown",
      "source": [
        "# **1.19. Transforming and Reducing Data at the Same Time**\n",
        "\n",
        "## **Problem:**\n",
        "\n",
        "You need to execute a reduction function (e.g., sum(), min(), max()), but first need to\n",
        "transform or filter the data.\n",
        "\n",
        "## **Solution:**\n",
        "\n",
        "A very elegant way to combine a data reduction and a transformation is to use a\n",
        "generator-expression argument. For example, if you want to calculate the sum of\n",
        "squares, do the following:"
      ],
      "metadata": {
        "id": "PmV8ON8ZKXjd"
      }
    },
    {
      "cell_type": "code",
      "source": [
        "nums = [1, 2, 3, 4, 5]\n",
        "\n",
        "s = sum(x*x for x in nums)\n",
        "\n",
        "#Here are a few other examples:\n",
        "# Determine if any .py files exist in a directory\n",
        "import os\n",
        "\n",
        "files = os.listdir(\"dirname\")\n",
        "if any(name.endswith(\".py\") for name in files):\n",
        "    print(\"There be Python!\")\n",
        "else:\n",
        "    print(\"Sorry no Python\")\n",
        "\n",
        "# Output a tuple as CSV\n",
        "s = ('ACME', 50, 123.45)\n",
        "print(','.join(str(x) for x in s))\n",
        "\n",
        "\n",
        "\n"
      ],
      "metadata": {
        "colab": {
          "base_uri": "https://localhost:8080/",
          "height": 245
        },
        "id": "dECk6g3nKbUk",
        "outputId": "cd30422f-cd23-4e4a-9ac6-b69758b65a6b"
      },
      "execution_count": 12,
      "outputs": [
        {
          "output_type": "error",
          "ename": "FileNotFoundError",
          "evalue": "[Errno 2] No such file or directory: 'dirname'",
          "traceback": [
            "\u001b[0;31m---------------------------------------------------------------------------\u001b[0m",
            "\u001b[0;31mFileNotFoundError\u001b[0m                         Traceback (most recent call last)",
            "\u001b[0;32m<ipython-input-12-c10ccab78cc7>\u001b[0m in \u001b[0;36m<cell line: 9>\u001b[0;34m()\u001b[0m\n\u001b[1;32m      7\u001b[0m \u001b[0;32mimport\u001b[0m \u001b[0mos\u001b[0m\u001b[0;34m\u001b[0m\u001b[0;34m\u001b[0m\u001b[0m\n\u001b[1;32m      8\u001b[0m \u001b[0;34m\u001b[0m\u001b[0m\n\u001b[0;32m----> 9\u001b[0;31m \u001b[0mfiles\u001b[0m \u001b[0;34m=\u001b[0m \u001b[0mos\u001b[0m\u001b[0;34m.\u001b[0m\u001b[0mlistdir\u001b[0m\u001b[0;34m(\u001b[0m\u001b[0;34m\"dirname\"\u001b[0m\u001b[0;34m)\u001b[0m\u001b[0;34m\u001b[0m\u001b[0;34m\u001b[0m\u001b[0m\n\u001b[0m\u001b[1;32m     10\u001b[0m \u001b[0;32mif\u001b[0m \u001b[0many\u001b[0m\u001b[0;34m(\u001b[0m\u001b[0mname\u001b[0m\u001b[0;34m.\u001b[0m\u001b[0mendswith\u001b[0m\u001b[0;34m(\u001b[0m\u001b[0;34m\".py\"\u001b[0m\u001b[0;34m)\u001b[0m \u001b[0;32mfor\u001b[0m \u001b[0mname\u001b[0m \u001b[0;32min\u001b[0m \u001b[0mfiles\u001b[0m\u001b[0;34m)\u001b[0m\u001b[0;34m:\u001b[0m\u001b[0;34m\u001b[0m\u001b[0;34m\u001b[0m\u001b[0m\n\u001b[1;32m     11\u001b[0m     \u001b[0mprint\u001b[0m\u001b[0;34m(\u001b[0m\u001b[0;34m\"There be Python!\"\u001b[0m\u001b[0;34m)\u001b[0m\u001b[0;34m\u001b[0m\u001b[0;34m\u001b[0m\u001b[0m\n",
            "\u001b[0;31mFileNotFoundError\u001b[0m: [Errno 2] No such file or directory: 'dirname'"
          ]
        }
      ]
    },
    {
      "cell_type": "markdown",
      "source": [
        "# **Discussion:Transforming and Reducing Data at the Same Time**\n",
        "\n",
        "The solution shows a subtle syntactic aspect of generator expressions when supplied as\n",
        "the single argument to a function (i.e., you don’t need repeated parentheses). For example,\n",
        "these statements are the same:"
      ],
      "metadata": {
        "id": "927o3UvlPmS2"
      }
    },
    {
      "cell_type": "code",
      "source": [
        "# Data reduction across fields of a data structure\n",
        "portfolio = [\n",
        "{'name':'GOOG', 'shares': 50},\n",
        "{'name':'YHOO', 'shares': 75},\n",
        "{'name':'AOL', 'shares': 20},\n",
        " {'name':'SCOX', 'shares': 65}\n",
        "]\n",
        "\n",
        "min_shares = min(s[\"shares\"] for s in portfolio)\n",
        "print(min_shares)\n",
        "\n",
        "# Calculate the sum of squares using a generator expression passed as an argument to the 'sum' function\n",
        "s = sum((x * x for x in nums))  # Pass generator-expr as an argument\n",
        "# Alternatively, use a more elegant syntax without parentheses\n",
        "s = sum(x * x for x in nums)  # More elegant syntax\n",
        "\n",
        "# Print the calculated sum\n",
        "print(\"Sum of squares:\", s)\n",
        "\n",
        "# Using a generator argument is often more efficient and elegant than creating a temporary list\n",
        "# For example, if 'nums' was huge, creating a list might be memory-inefficient\n",
        "# The generator expression transforms the data iteratively, saving memory\n",
        "# Alternative implementation without a generator expression\n",
        "s = sum([x * x for x in nums])\n",
        "\n",
        "# Print the sum using the alternative implementation\n",
        "print(\"\\nSum of squares (alternative implementation):\", s)\n",
        "\n",
        "# Example using the 'min' function with a generator expression\n",
        "# Original: Returns the minimum value of the \"shares\" key in the portfolio\n",
        "min_shares = min(s[\"shares\"] for s in portfolio)\n",
        "\n",
        "# Alternative: Returns the dictionary with the minimum \"shares\" value in the portfolio\n",
        "min_shares = min(portfolio, key=lambda s: s[\"shares\"])\n",
        "\n",
        "# Print the result of the 'min' function using both approaches\n",
        "print(\"\\nMinimum shares (original):\", min_shares)\n",
        "print(\"Minimum shares (alternative):\", min_shares)\n"
      ],
      "metadata": {
        "colab": {
          "base_uri": "https://localhost:8080/"
        },
        "id": "zGMmg-nFPwq9",
        "outputId": "3909b923-8504-41bd-a752-ea602cd3130b"
      },
      "execution_count": 14,
      "outputs": [
        {
          "output_type": "stream",
          "name": "stdout",
          "text": [
            "20\n",
            "Sum of squares: 55\n",
            "\n",
            "Sum of squares (alternative implementation): 55\n",
            "\n",
            "Minimum shares (original): {'name': 'AOL', 'shares': 20}\n",
            "Minimum shares (alternative): {'name': 'AOL', 'shares': 20}\n"
          ]
        }
      ]
    },
    {
      "cell_type": "markdown",
      "source": [
        "# **1.20. Combining Multiple Mappings into a Single Mapping **\n",
        "\n",
        "## **Problem:**\n",
        "\n",
        "You have multiple dictionaries or mappings that you want to logically combine into a\n",
        "single mapping to perform certain operations, such as looking up values or checking\n",
        "for the existence of keys.\n",
        "\n",
        "## **Solution:**\n",
        "\n",
        "Suppose you have two dictionaries:"
      ],
      "metadata": {
        "id": "kAsPOHkcSAn9"
      }
    },
    {
      "cell_type": "code",
      "source": [
        "a = {'x': 1, 'z': 3 }\n",
        "b = {'y': 2, 'z': 4 }\n",
        "\n",
        "#Now suppose you want to perform lookups where you have to check both dictionaries\n",
        "#(e.g., first checking in a and then in b if not found). An easy way to do this is to use the\n",
        "#ChainMap class from the collections module. For example:\n",
        "from collections import ChainMap\n",
        "\n",
        "c = ChainMap(a,b)\n",
        "print(c['x']) # Outputs 1 (from a)\n",
        "print(c['y']) # Outputs 2 (from b)\n",
        "print(c['z']) # Outputs 3 (from a)"
      ],
      "metadata": {
        "colab": {
          "base_uri": "https://localhost:8080/"
        },
        "id": "TsrPtEXpSZW2",
        "outputId": "851420f6-edcf-4fdb-ae83-e5a939a7ebbe"
      },
      "execution_count": 16,
      "outputs": [
        {
          "output_type": "stream",
          "name": "stdout",
          "text": [
            "1\n",
            "2\n",
            "3\n"
          ]
        }
      ]
    },
    {
      "cell_type": "markdown",
      "source": [
        "# **Discussion:Combining Multiple Mappings into a Single Mapping**\n",
        "\n",
        "A ChainMap takes multiple mappings and makes them logically appear as one. However,\n",
        "the mappings are not literally merged together. Instead, a ChainMap simply keeps a list\n",
        "of the underlying mappings and redefines common dictionary operations to scan the\n",
        "list. Most operations will work. For example:"
      ],
      "metadata": {
        "id": "G6Cen-O-VLVo"
      }
    },
    {
      "cell_type": "code",
      "source": [
        "print(len(c))\n",
        "print(list(c.keys()))\n",
        "print(list(c.values()))\n",
        "\n",
        "#Operations that mutate the mapping always affect the first mapping listed. For example:\n",
        "c['z'] = 10\n",
        "c['w'] = 40\n",
        "del c['x']\n",
        "a\n",
        "\n",
        "#A ChainMap is particularly useful when working with scoped values such as variables in\n",
        "#a programming language (i.e., globals, locals, etc.). In fact, there are methods that make\n",
        "#this easy:\n",
        "values = ChainMap()\n",
        "values['x'] = 1\n",
        "# Add a new mapping\n",
        "values = values.new_child()\n",
        "\n",
        "#As an alternative to ChainMap, you might consider merging dictionaries together using\n",
        "#the update() method. For example:\n",
        "a = {'x': 1, 'z': 3 }\n",
        "b = {'y': 2, 'z': 4 }\n",
        "\n",
        "merged = dict(b)\n",
        "merged.update(a)\n",
        "\n",
        "merged['x']\n",
        "merged['y']\n",
        "merged['z']\n",
        "\n",
        "\n"
      ],
      "metadata": {
        "id": "apviavLOVXnP"
      },
      "execution_count": null,
      "outputs": []
    }
  ]
}